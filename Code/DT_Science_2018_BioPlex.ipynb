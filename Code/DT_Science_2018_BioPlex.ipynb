{
 "cells": [
  {
   "cell_type": "code",
   "execution_count": 1,
   "id": "d5877021-b669-492d-a12b-c2e3ea9bbda8",
   "metadata": {},
   "outputs": [],
   "source": [
    "import copy\n",
    "import pandas as pd\n",
    "import re\n",
    "import itertools\n",
    "import numpy as np\n",
    "from matplotlib import pyplot as plt\n",
    "\n",
    "from sklearn.linear_model import LinearRegression, Ridge, RidgeCV, Perceptron, SGDRegressor\n",
    "from sklearn import svm, tree\n",
    "from sklearn.metrics import mean_squared_error, mean_absolute_error\n",
    "from sklearn.ensemble import RandomForestRegressor, GradientBoostingRegressor\n",
    "from sklearn import preprocessing\n",
    "from sklearn.neural_network import MLPRegressor\n",
    "from sklearn.preprocessing import PowerTransformer, QuantileTransformer, quantile_transform\n",
    "from sklearn.compose import TransformedTargetRegressor\n",
    "import math\n",
    "from numpy import cov\n",
    "\n",
    "np.random.seed(42) # fix randomness in Scikit-learn"
   ]
  },
  {
   "cell_type": "markdown",
   "id": "0456697d-d2a1-4d97-910a-e12683fb3ca3",
   "metadata": {},
   "source": [
    "## 1. Read data"
   ]
  },
  {
   "cell_type": "code",
   "execution_count": 44,
   "id": "a550df77-4917-417f-b3a8-a9f7fd7644ad",
   "metadata": {},
   "outputs": [],
   "source": [
    "df_BioPlex = pd.read_csv('../BioPlex_293T_Network_10K_Dec_2019.tsv', sep='\\t')\n",
    "df_CETSA = pd.read_csv('../S21.csv')\n",
    "# pInt indicates interactions"
   ]
  },
  {
   "cell_type": "markdown",
   "id": "baf47b5c-d233-4d07-a004-508d9d16db40",
   "metadata": {},
   "source": [
    "## 2. Merge tables"
   ]
  },
  {
   "cell_type": "code",
   "execution_count": 7,
   "id": "4a346e9e-8e4b-40e7-9755-d4c8ef7ae1af",
   "metadata": {},
   "outputs": [],
   "source": [
    "df_int = df_BioPlex.merge(df_CETSA, left_on='SymbolA', right_on='GeneName')\n",
    "df_int_2 = df_int.merge(df_CETSA, left_on='SymbolB', right_on='GeneName')\n",
    "df_int_2_filtered = df_int_2"
   ]
  },
  {
   "cell_type": "markdown",
   "id": "4f7af5a0-4a9b-4bb3-ad57-a8476de1d28f",
   "metadata": {},
   "source": [
    "## 3. Select features"
   ]
  },
  {
   "cell_type": "code",
   "execution_count": 45,
   "id": "bb9b1f57-f790-48fa-9292-51b3afce7506",
   "metadata": {},
   "outputs": [
    {
     "name": "stdout",
     "output_type": "stream",
     "text": [
      "41490 number of samples\n"
     ]
    }
   ],
   "source": [
    "X_columns = ['T37_x', 'T40_x', 'T43_x', 'T46_x', 'T49_x', 'T52_x', 'T55_x', 'T58_x', 'T61_x','T64_x', 'T37_y', 'T40_y', 'T43_y', 'T46_y', 'T49_y', \n",
    "             'T52_y','T55_y','T58_y','T61_y','T64_y']\n",
    "Y_columns = ['pInt']\n",
    "X = df_int_2_filtered[X_columns].to_numpy()\n",
    "Y = df_int_2_filtered[Y_columns].to_numpy()\n",
    "print(X.shape[0], 'number of samples')"
   ]
  },
  {
   "cell_type": "markdown",
   "id": "b76decf0-7a1b-4708-9152-a64e1ce65974",
   "metadata": {},
   "source": [
    "## 4. Fit models and cross validation\n",
    "#### Using Decision Tree"
   ]
  },
  {
   "cell_type": "code",
   "execution_count": 47,
   "id": "50a403ea-fa2f-4904-abb8-b59698c6bbf4",
   "metadata": {},
   "outputs": [
    {
     "name": "stdout",
     "output_type": "stream",
     "text": [
      "0.06980480536939768 MAE\n"
     ]
    }
   ],
   "source": [
    "y_preds = []\n",
    "def validate_one_fold(test_start, test_end):\n",
    "    X_test = X[test_start:test_end,:]\n",
    "    X_ = np.delete(X, slice(test_start,test_end), 0)\n",
    "    y_test = Y[test_start:test_end,:]\n",
    "    y_ = np.delete(Y, slice(test_start,test_end), 0)\n",
    "\n",
    "    clf = tree.DecisionTreeRegressor()\n",
    "    clf = clf.fit(X_, y_)\n",
    "    mae = mean_absolute_error(y_test, clf.predict(X_test))\n",
    "#     print(clf.score(X_, y_), mae)\n",
    "    y_pred = clf.predict(X_test)\n",
    "    return y_pred, mae\n",
    "\n",
    "starts = [int(i*X.shape[0]/5) for i in range(5)]\n",
    "ends = [s for s in starts[1:]]\n",
    "ends.append(X.shape[0]+1)\n",
    "# print(starts, ends)\n",
    "maes = []\n",
    "for s, e in zip(starts, ends):\n",
    "    y_pred, mae = validate_one_fold(s, e)\n",
    "    y_preds.extend(y_pred)\n",
    "    maes.append(mae)\n",
    "print(sum(maes)/len(maes), 'MAE')"
   ]
  },
  {
   "cell_type": "code",
   "execution_count": 49,
   "id": "d70f2f14-4f97-492f-a846-484c46067935",
   "metadata": {},
   "outputs": [
    {
     "name": "stderr",
     "output_type": "stream",
     "text": [
      "/home/peisheng/crp/venv/lib/python3.6/site-packages/ipykernel_launcher.py:3: SettingWithCopyWarning: \n",
      "A value is trying to be set on a copy of a slice from a DataFrame.\n",
      "Try using .loc[row_indexer,col_indexer] = value instead\n",
      "\n",
      "See the caveats in the documentation: https://pandas.pydata.org/pandas-docs/stable/user_guide/indexing.html#returning-a-view-versus-a-copy\n",
      "  This is separate from the ipykernel package so we can avoid doing imports until\n"
     ]
    }
   ],
   "source": [
    "df_int_2_filtered['Prediction'] = y_preds\n",
    "df_slice = df_int_2_filtered[['SymbolA', 'SymbolB', 'pInt', 'GeneName_x', 'GeneName_y', 'Prediction']]\n",
    "df_slice['Error'] = abs(df_slice['pInt'] - df_slice['Prediction'])\n",
    "df_slice_sorted = df_slice.sort_values('Error')"
   ]
  },
  {
   "cell_type": "markdown",
   "id": "81e4e549-0af6-4eb1-93ac-6ea1b8e4a0e4",
   "metadata": {},
   "source": [
    "## 5. Plot individual pairs"
   ]
  },
  {
   "cell_type": "code",
   "execution_count": 50,
   "id": "c9fea549-f3d5-446b-b7fa-30d79fabc990",
   "metadata": {},
   "outputs": [
    {
     "data": {
      "image/png": "[encoded data removed]",
      "text/plain": [
       "<Figure size 432x288 with 1 Axes>"
      ]
     },
     "metadata": {
      "needs_background": "light"
     },
     "output_type": "display_data"
    }
   ],
   "source": [
    "count = 0\n",
    "lower_thresh = 0.75\n",
    "upper_thresh = 0.8\n",
    "for row in df_slice_sorted.head(10000).itertuples():\n",
    "    if row.pInt >= lower_thresh and row.pInt <= upper_thresh:\n",
    "        count += 1\n",
    "        full_row = df_int_2_filtered.loc[[row.Index]]\n",
    "        x_feature = full_row[['T37_x', 'T40_x', 'T43_x', 'T46_x', 'T49_x', 'T52_x', 'T55_x', 'T58_x', 'T61_x', 'T64_x']].to_numpy()\n",
    "        y_feature = full_row[['T37_y', 'T40_y', 'T43_y', 'T46_y', 'T49_y', 'T52_y', 'T55_y', 'T58_y', 'T61_y', 'T64_y']].to_numpy()\n",
    "        new_df = pd.DataFrame(data={str(row.GeneName_x):x_feature[0], str(row.GeneName_y):y_feature[0]}, index = [37, 40, 43, 46, 49, 52, 55, 58, 61, 64])\n",
    "        new_df.plot()\n",
    "        file_name = str(row.GeneName_x)+'_'+str(row.GeneName_y)+'_G_'+str(f'{row.pInt:.2f}')+'_P_'+str(f'{row.Prediction:.2f}')\n",
    "        plt.title(file_name)\n",
    "#         plt.savefig('HEK293T_figures/'+ file_name + '.png')\n",
    "    if count > 0:\n",
    "        break"
   ]
  },
  {
   "cell_type": "markdown",
   "id": "ddc78e00-f0d3-4008-89ac-28f7edc6fcd8",
   "metadata": {},
   "source": [
    "## 6. Plot error distribution"
   ]
  },
  {
   "cell_type": "code",
   "execution_count": 53,
   "id": "e0d2c9be-8158-4502-8cc0-ff02d8a76c32",
   "metadata": {},
   "outputs": [
    {
     "data": {
      "text/plain": [
       "Text(0.5, 1.0, 'Distribution of Error')"
      ]
     },
     "execution_count": 53,
     "metadata": {},
     "output_type": "execute_result"
    },
    {
     "data": {
      "image/png": "[encoded data removed]",
      "text/plain": [
       "<Figure size 432x288 with 1 Axes>"
      ]
     },
     "metadata": {
      "needs_background": "light"
     },
     "output_type": "display_data"
    }
   ],
   "source": [
    "plt.hist(df_slice['Error'])\n",
    "plt.title('Distribution of Error')\n",
    "# plt.savefig('Error.png', dpi=200)"
   ]
  },
  {
   "cell_type": "markdown",
   "id": "f10b137b-ba75-4647-ba16-655428018a8c",
   "metadata": {},
   "source": [
    "## 7. Plot y groundtruth distribution"
   ]
  },
  {
   "cell_type": "code",
   "execution_count": 62,
   "id": "bdcc856f-8787-42d3-867b-e65d32ef44e5",
   "metadata": {},
   "outputs": [
    {
     "data": {
      "text/plain": [
       "Text(0.5, 1.0, 'Distribution of Y groundtruth')"
      ]
     },
     "execution_count": 62,
     "metadata": {},
     "output_type": "execute_result"
    },
    {
     "data": {
      "image/png": "[encoded data removed]",
      "text/plain": [
       "<Figure size 432x288 with 1 Axes>"
      ]
     },
     "metadata": {
      "needs_background": "light"
     },
     "output_type": "display_data"
    }
   ],
   "source": [
    "plt.hist(Y, bins=20)\n",
    "plt.title('Distribution of Y groundtruth')"
   ]
  },
  {
   "cell_type": "markdown",
   "id": "27cff8ee-e6f8-4a5d-bee4-554671830d82",
   "metadata": {},
   "source": [
    "## 8. Plot y prediction distribution"
   ]
  },
  {
   "cell_type": "code",
   "execution_count": 64,
   "id": "0db5f224-0c7d-4564-a31f-bd6ddea7fdfe",
   "metadata": {},
   "outputs": [
    {
     "data": {
      "text/plain": [
       "Text(0.5, 1.0, 'Distribution of Y prediction')"
      ]
     },
     "execution_count": 64,
     "metadata": {},
     "output_type": "execute_result"
    },
    {
     "data": {
      "image/png": "[encoded data removed]",
      "text/plain": [
       "<Figure size 432x288 with 1 Axes>"
      ]
     },
     "metadata": {
      "needs_background": "light"
     },
     "output_type": "display_data"
    }
   ],
   "source": [
    "plt.hist(y_pred, bins=20)\n",
    "plt.title('Distribution of Y prediction')\n",
    "# plt.savefig('Test_Y.png', dpi=200)"
   ]
  },
  {
   "cell_type": "markdown",
   "id": "0f47ad7e-1eaa-49cd-b090-4fe17601c335",
   "metadata": {},
   "source": [
    "## 9. Gradient Boosting"
   ]
  },
  {
   "cell_type": "code",
   "execution_count": null,
   "id": "96f137bf-ee01-4ae9-abf2-1ef323307015",
   "metadata": {},
   "outputs": [],
   "source": [
    "# regr = GradientBoostingRegressor(n_estimators=500, learning_rate=0.1, max_depth=3, random_state=0, loss='ls')\n",
    "# regr.fit(X, y.ravel())\n",
    "# mae = mean_absolute_error(y_test, regr.predict(X_test))\n",
    "# print(regr.score(X, y), mae)\n",
    "# y_pred = regr.predict(X_test)\n",
    "# plt.hist(y_pred, bins=20)\n",
    "# plt.title('GB_pred')"
   ]
  },
  {
   "cell_type": "raw",
   "id": "d8687a22-d64b-4e6b-9ed0-539d86035dd6",
   "metadata": {},
   "source": [
    "The coefficient  is defined as , where  is the residual sum of squares ((y_true - y_pred) ** 2).sum() and  is the total sum of squares ((y_true - y_true.mean()) ** 2).sum(). The best possible score is 1.0 and it can be negative (because the model can be arbitrarily worse). A constant model that always predicts the expected value of y, disregarding the input features, would get a  score of 0.0."
   ]
  }
 ],
 "metadata": {
  "kernelspec": {
   "display_name": "Python 3",
   "language": "python",
   "name": "python3"
  },
  "language_info": {
   "codemirror_mode": {
    "name": "ipython",
    "version": 3
   },
   "file_extension": ".py",
   "mimetype": "text/x-python",
   "name": "python",
   "nbconvert_exporter": "python",
   "pygments_lexer": "ipython3",
   "version": "3.6.9"
  }
 },
 "nbformat": 4,
 "nbformat_minor": 5
}
